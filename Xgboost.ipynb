{
 "cells": [
  {
   "cell_type": "code",
   "execution_count": 1,
   "metadata": {},
   "outputs": [
    {
     "name": "stdout",
     "output_type": "stream",
     "text": [
      "Requirement already satisfied: xgboost in c:\\users\\faizan\\anaconda3\\lib\\site-packages (1.4.2)\n",
      "Requirement already satisfied: scipy in c:\\users\\faizan\\anaconda3\\lib\\site-packages (from xgboost) (1.5.2)\n",
      "Requirement already satisfied: numpy in c:\\users\\faizan\\anaconda3\\lib\\site-packages (from xgboost) (1.19.2)\n"
     ]
    }
   ],
   "source": [
    "import sys\n",
    "!{sys.executable} -m pip install xgboost"
   ]
  },
  {
   "cell_type": "code",
   "execution_count": 18,
   "metadata": {},
   "outputs": [
    {
     "name": "stdout",
     "output_type": "stream",
     "text": [
      "Requirement already satisfied: imblearn in c:\\users\\faizan\\anaconda3\\lib\\site-packages (0.0)\n",
      "Requirement already satisfied: imbalanced-learn in c:\\users\\faizan\\anaconda3\\lib\\site-packages (from imblearn) (0.8.0)\n",
      "Requirement already satisfied: numpy>=1.13.3 in c:\\users\\faizan\\anaconda3\\lib\\site-packages (from imbalanced-learn->imblearn) (1.19.2)\n",
      "Requirement already satisfied: joblib>=0.11 in c:\\users\\faizan\\anaconda3\\lib\\site-packages (from imbalanced-learn->imblearn) (0.17.0)\n",
      "Requirement already satisfied: scipy>=0.19.1 in c:\\users\\faizan\\anaconda3\\lib\\site-packages (from imbalanced-learn->imblearn) (1.5.2)\n",
      "Requirement already satisfied: scikit-learn>=0.24 in c:\\users\\faizan\\anaconda3\\lib\\site-packages (from imbalanced-learn->imblearn) (0.24.2)\n",
      "Requirement already satisfied: threadpoolctl>=2.0.0 in c:\\users\\faizan\\anaconda3\\lib\\site-packages (from scikit-learn>=0.24->imbalanced-learn->imblearn) (2.1.0)\n"
     ]
    }
   ],
   "source": [
    "!pip install imblearn"
   ]
  },
  {
   "cell_type": "code",
   "execution_count": 1,
   "metadata": {},
   "outputs": [
    {
     "name": "stderr",
     "output_type": "stream",
     "text": [
      "C:\\Users\\Faizan\\anaconda3\\lib\\site-packages\\xgboost\\sklearn.py:1146: UserWarning: The use of label encoder in XGBClassifier is deprecated and will be removed in a future release. To remove this warning, do the following: 1) Pass option use_label_encoder=False when constructing XGBClassifier object; and 2) Encode your labels (y) as integers starting with 0, i.e. 0, 1, 2, ..., [num_class - 1].\n",
      "  warnings.warn(label_encoder_deprecation_msg, UserWarning)\n"
     ]
    },
    {
     "name": "stdout",
     "output_type": "stream",
     "text": [
      "[13:48:25] WARNING: C:/Users/Administrator/workspace/xgboost-win64_release_1.4.0/src/learner.cc:1095: Starting in XGBoost 1.3.0, the default evaluation metric used with the objective 'multi:softprob' was changed from 'merror' to 'mlogloss'. Explicitly set eval_metric if you'd like to restore the old behavior.\n",
      "       Accuracy of the model is: 0.7896920175989943\n"
     ]
    },
    {
     "data": {
      "text/plain": [
       "array(['french'], dtype=object)"
      ]
     },
     "execution_count": 1,
     "metadata": {},
     "output_type": "execute_result"
    }
   ],
   "source": [
    "import pandas as pd\n",
    "import matplotlib.pyplot as plt\n",
    "import xgboost as xgb\n",
    " \n",
    "import pickle\n",
    "from sklearn.preprocessing import LabelEncoder\n",
    "from sklearn.model_selection import train_test_split\n",
    "#from imblearn.combine import SMOTETomek\n",
    "#from imblearn.over_sampling import RandomOverSapler\n",
    "#from imblearn.over_sampling import SMOTE\n",
    "#from imblearn.under_sampling import NearMiss \n",
    "\n",
    "\n",
    "from sklearn.feature_extraction.text import CountVectorizer\n",
    "\n",
    "from sklearn import metrics\n",
    "from sklearn import svm\n",
    "from sklearn.model_selection import GridSearchCV\n",
    "\n",
    "##Step 1 Import the Data Set\n",
    "df=pd.read_csv(\"C:/Users/Faizan/Downloads/cuisine_data_multiclass_classification.csv\")\n",
    "df.head()\n",
    "\n",
    "##Step 2 Splitting Test and Train Data\n",
    "x=df['cuisine_description']\n",
    "y=df['cuisine']\n",
    "x_train, x_test, y_train, y_test = train_test_split(x, y, test_size=0.20, random_state=42)\n",
    "\n",
    "##Step 3 Extract Features using TF-IDF \n",
    "cv=CountVectorizer()\n",
    "features=cv.fit_transform(x_train)\n",
    "\n",
    "##Step 4 Build a model\n",
    "xgb_model=xgb.XGBClassifier(random_state=0)\n",
    "xgb_model.fit(features,y_train)\n",
    "##Note if we want better Accuracy Score try running the below model as the Step 4\n",
    "##Tuned_parameters={ ‘kernel’: [‘linear’, ‘rbf’] ,   ‘gamma’: [1e-3,1e-4] , ‘C’:[1,10,100,1000]  }\n",
    "##model=GridSearchCV(svm.SVC() ,tuned_parameters)\n",
    "##model.fit(features,y_train)\n",
    "##print(model.best_params_)\n",
    "\n",
    "\n",
    "\n",
    "\n",
    "##Step 5 Test Accuracy\n",
    "features_test=cv.transform(x_test)\n",
    "print(\"       Accuracy of the model is:\" ,xgb_model.score(features_test, y_test))\n",
    "\n",
    "##Step 6 Perform Classification on Newly Added Data to Classify\n",
    "example=['black pepper shallots cornflour cayenne pepper onions garlic paste milk butter'\n",
    "          ]\n",
    "\n",
    "doc_term_matrix=cv.transform(example)\n",
    "xgb_model.predict(doc_term_matrix)\n"
   ]
  },
  {
   "cell_type": "code",
   "execution_count": 11,
   "metadata": {
    "scrolled": true
   },
   "outputs": [
    {
     "name": "stdout",
     "output_type": "stream",
     "text": [
      "enter sentenceblack pepper shallots cornflour cayenne pepper onions garlic paste milk butter\n"
     ]
    },
    {
     "data": {
      "text/plain": [
       "array(['french'], dtype=object)"
      ]
     },
     "execution_count": 11,
     "metadata": {},
     "output_type": "execute_result"
    }
   ],
   "source": [
    "var=[input('enter sentence')]\n",
    "example=var\n",
    "doc_term_matrix=cv.transform(example)\n",
    "xgb_model.predict(doc_term_matrix)\n",
    "\n"
   ]
  },
  {
   "cell_type": "code",
   "execution_count": 5,
   "metadata": {},
   "outputs": [],
   "source": [
    "# save the model to disk\n",
    "filename = 'xgboostnew.sav'\n",
    "pickle.dump(xgb_model, open(filename, 'wb'))\n",
    "\n",
    "# load the model from disk\n",
    "loaded_model = pickle.load(open(filename, 'rb'))"
   ]
  },
  {
   "cell_type": "code",
   "execution_count": 9,
   "metadata": {},
   "outputs": [],
   "source": [
    "# save the model to disk\n",
    "filename = 'countvect.pkl'\n",
    "pickle.dump(cv, open(filename, 'wb'))\n",
    "\n",
    "# load the model from disk\n",
    "loaded_model2 = pickle.load(open(filename, 'rb'))"
   ]
  },
  {
   "cell_type": "code",
   "execution_count": 5,
   "metadata": {},
   "outputs": [
    {
     "name": "stdout",
     "output_type": "stream",
     "text": [
      "  (0, 238)\t1\n",
      "  (0, 359)\t1\n",
      "  (0, 468)\t1\n",
      "  (0, 652)\t1\n",
      "  (0, 1047)\t1\n",
      "  (0, 1634)\t1\n",
      "  (0, 1786)\t1\n",
      "  (0, 1870)\t1\n",
      "  (0, 1907)\t2\n",
      "  (0, 2318)\t1\n",
      "  (1, 527)\t1\n",
      "  (1, 552)\t1\n",
      "  (1, 570)\t1\n",
      "  (1, 1047)\t1\n",
      "  (1, 1299)\t1\n",
      "  (1, 1603)\t1\n",
      "  (1, 1773)\t1\n",
      "  (1, 1780)\t1\n",
      "  (1, 1907)\t1\n",
      "  (1, 2242)\t1\n",
      "  (1, 2360)\t1\n",
      "  (2, 1773)\t1\n",
      "  (2, 2242)\t1\n",
      "  (2, 2750)\t1\n",
      "  (2, 2793)\t1\n",
      "  :\t:\n",
      "  (3, 2502)\t1\n",
      "  (3, 2648)\t1\n",
      "  (3, 2696)\t1\n",
      "  (3, 2750)\t1\n",
      "  (4, 418)\t1\n",
      "  (4, 712)\t1\n",
      "  (4, 958)\t1\n",
      "  (4, 1443)\t1\n",
      "  (4, 1477)\t1\n",
      "  (4, 1560)\t1\n",
      "  (4, 1773)\t1\n",
      "  (4, 1780)\t1\n",
      "  (4, 1860)\t1\n",
      "  (4, 1907)\t1\n",
      "  (4, 2135)\t1\n",
      "  (4, 2266)\t1\n",
      "  (5, 500)\t1\n",
      "  (5, 713)\t1\n",
      "  (5, 1687)\t1\n",
      "  (5, 1862)\t1\n",
      "  (5, 1925)\t1\n",
      "  (5, 1984)\t1\n",
      "  (5, 1988)\t1\n",
      "  (5, 2377)\t1\n",
      "  (5, 2648)\t1\n"
     ]
    }
   ],
   "source": [
    "print(doc_term_matrix)"
   ]
  },
  {
   "cell_type": "code",
   "execution_count": 12,
   "metadata": {},
   "outputs": [
    {
     "data": {
      "text/plain": [
       "array(['greek', 'southern_us', 'filipino', 'indian', 'jamaican',\n",
       "       'spanish', 'italian', 'mexican', 'chinese', 'british', 'thai',\n",
       "       'vietnamese', 'cajun_creole', 'brazilian', 'french', 'japanese',\n",
       "       'irish', 'korean', 'moroccan', 'russian'], dtype=object)"
      ]
     },
     "execution_count": 12,
     "metadata": {},
     "output_type": "execute_result"
    }
   ],
   "source": [
    "df.cuisine.unique()"
   ]
  },
  {
   "cell_type": "code",
   "execution_count": 13,
   "metadata": {},
   "outputs": [
    {
     "data": {
      "text/plain": [
       "italian         7838\n",
       "mexican         6438\n",
       "southern_us     4320\n",
       "indian          3003\n",
       "chinese         2673\n",
       "french          2646\n",
       "cajun_creole    1546\n",
       "thai            1539\n",
       "japanese        1423\n",
       "greek           1175\n",
       "spanish          989\n",
       "korean           830\n",
       "vietnamese       825\n",
       "moroccan         821\n",
       "british          804\n",
       "filipino         755\n",
       "irish            667\n",
       "jamaican         526\n",
       "russian          489\n",
       "brazilian        467\n",
       "Name: cuisine, dtype: int64"
      ]
     },
     "execution_count": 13,
     "metadata": {},
     "output_type": "execute_result"
    }
   ],
   "source": [
    "df.cuisine.value_counts()"
   ]
  },
  {
   "cell_type": "code",
   "execution_count": null,
   "metadata": {},
   "outputs": [],
   "source": []
  }
 ],
 "metadata": {
  "kernelspec": {
   "display_name": "Python 3",
   "language": "python",
   "name": "python3"
  },
  "language_info": {
   "codemirror_mode": {
    "name": "ipython",
    "version": 3
   },
   "file_extension": ".py",
   "mimetype": "text/x-python",
   "name": "python",
   "nbconvert_exporter": "python",
   "pygments_lexer": "ipython3",
   "version": "3.7.3"
  }
 },
 "nbformat": 4,
 "nbformat_minor": 2
}
